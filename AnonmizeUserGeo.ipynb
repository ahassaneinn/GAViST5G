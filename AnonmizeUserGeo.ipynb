{
 "cells": [
  {
   "cell_type": "code",
   "execution_count": null,
   "id": "16539543-bff9-45d4-8072-addc39e1ab13",
   "metadata": {},
   "outputs": [],
   "source": [
    "import pandas as pd\n",
    "import random\n",
    "import os\n",
    "\n",
    "# Define the details to fill in\n",
    "country = \"CA\"\n",
    "region = \"Ontario\"\n",
    "city = \"Ottawa\"\n",
    "Org = \"Rogers\"\n",
    "longitude_latitude_pairs = [\n",
    "    (45.35454191307583, -75.64180673554637),\n",
    "]\n",
    "\n",
    "# Folder containing the CSV files\n",
    "folder_path = r'D:\\Online Gaming\\'\n",
    "\n",
    "# Process each CSV file in the folder\n",
    "for file_name in os.listdir(folder_path):\n",
    "    if file_name.endswith('.csv'):\n",
    "        file_path = os.path.join(folder_path, file_name)\n",
    "\n",
    "        # Select a random pair for the file\n",
    "        selected_pair = random.choice(longitude_latitude_pairs)\n",
    "\n",
    "        # Load the CSV file\n",
    "        print(f\"Processing file: {file_name}\")\n",
    "        data = pd.read_csv(file_path)\n",
    "\n",
    "        # Fill in missing values\n",
    "        missing_indices = data[data['Country'].isnull() & data['Region'].isnull() & data['City'].isnull() & data['Org'].isnull()].index\n",
    "        if not missing_indices.empty:\n",
    "            print(f\"Filling missing values in {file_name}\")\n",
    "            data.loc[missing_indices, 'Country'] = country\n",
    "            data.loc[missing_indices, 'Region'] = region\n",
    "            data.loc[missing_indices, 'City'] = city\n",
    "            data.loc[missing_indices, 'Org'] = org\n",
    "            data.loc[missing_indices, 'Longitude'] = selected_pair[0]\n",
    "            data.loc[missing_indices, 'Latitude'] = selected_pair[1]\n",
    "\n",
    "        # Sort the data by the column 'No.' smallest to largest\n",
    "        if 'No.' in data.columns:\n",
    "            data.sort_values(by='No.', ascending=True, inplace=True)\n",
    "\n",
    "        # Save the updated CSV file\n",
    "        output_path = os.path.join(folder_path, file_name)  # Overwrite the original file\n",
    "        data.to_csv(output_path, index=False)\n",
    "\n",
    "        print(f\"Updated file saved to {output_path}\")\n",
    "    else:\n",
    "        print(f\"No missing values to fill in {file_name}\")\n"
   ]
  },
  {
   "cell_type": "code",
   "execution_count": null,
   "id": "67f1b400-5285-4b8b-8044-d21b1ef88d6b",
   "metadata": {},
   "outputs": [],
   "source": []
  }
 ],
 "metadata": {
  "kernelspec": {
   "display_name": "Python 3 (ipykernel)",
   "language": "python",
   "name": "python3"
  },
  "language_info": {
   "codemirror_mode": {
    "name": "ipython",
    "version": 3
   },
   "file_extension": ".py",
   "mimetype": "text/x-python",
   "name": "python",
   "nbconvert_exporter": "python",
   "pygments_lexer": "ipython3",
   "version": "3.9.18"
  }
 },
 "nbformat": 4,
 "nbformat_minor": 5
}
