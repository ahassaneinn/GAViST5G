{
 "cells": [
  {
   "cell_type": "code",
   "execution_count": null,
   "id": "247831f9-f737-4352-8adc-22f0fd220e1c",
   "metadata": {},
   "outputs": [],
   "source": [
    "import os\n",
    "import pandas as pd\n",
    "\n",
    "def add_connection_column(directory):\n",
    "    for root, _, files in os.walk(directory):\n",
    "        for file in files:\n",
    "            if file.endswith(\".csv\"):\n",
    "                file_path = os.path.join(root, file)\n",
    "                try:\n",
    "                    df = pd.read_csv(file_path)\n",
    "                    df['Connection'] = '5GHotspot'\n",
    "                    df.to_csv(file_path, index=False)\n",
    "                    print(f\"Updated: {file_path}\")\n",
    "                except Exception as e:\n",
    "                    print(f\"Error updating {file_path}: {e}\")\n",
    "\n",
    "# Set the directory to scan\n",
    "directory_path = \"C:\\\\Users\\\\Online Gaming\"\n",
    "\n",
    "add_connection_column(directory_path)\n"
   ]
  }
 ],
 "metadata": {
  "kernelspec": {
   "display_name": "Python 3 (ipykernel)",
   "language": "python",
   "name": "python3"
  },
  "language_info": {
   "codemirror_mode": {
    "name": "ipython",
    "version": 3
   },
   "file_extension": ".py",
   "mimetype": "text/x-python",
   "name": "python",
   "nbconvert_exporter": "python",
   "pygments_lexer": "ipython3",
   "version": "3.9.18"
  }
 },
 "nbformat": 4,
 "nbformat_minor": 5
}
