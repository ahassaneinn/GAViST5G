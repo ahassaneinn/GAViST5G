{
 "cells": [
  {
   "cell_type": "code",
   "execution_count": null,
   "id": "b6198fa5-1587-4613-ae52-c298575c1090",
   "metadata": {},
   "outputs": [],
   "source": [
    "import pandas as pd\n",
    "import os\n",
    "\n",
    "# Set the directory path to the folder\n",
    "folder_path = r'C:\\Users\\Folder'\n",
    "\n",
    "# Loop through all files in the folder\n",
    "for file_name in os.listdir(folder_path):\n",
    "    if file_name.endswith('.csv'):\n",
    "        file_path = os.path.join(folder_path, file_name)\n",
    "        \n",
    "        # Load each CSV file\n",
    "        df = pd.read_csv(file_path, low_memory=False)\n",
    "\n",
    "        # Sort the DataFrame by the 'No.' column before any manipulation\n",
    "        df = df.sort_values(by='No.')\n",
    "\n",
    "        # Convert the 'Time' column to datetime\n",
    "        df['Time'] = pd.to_datetime(df['Time'])\n",
    "\n",
    "        # Drop the 'No.' and 'Info' columns since they are not needed\n",
    "        df = df.drop(columns=['No.', 'Info'])\n",
    "\n",
    "        # Group by second, Source, Destination, Protocol, and other required columns\n",
    "        df_grouped = df.groupby(\n",
    "            [df['Time'].dt.floor('S'), 'Source', 'Destination', 'Protocol', 'Country', 'Region', 'City', 'Org', 'Longitude', 'Latitude', 'Connection'],\n",
    "            dropna=False\n",
    "        ).agg(\n",
    "            Length=('Length', 'sum'),\n",
    "            ARTT=('RTT', 'mean')\n",
    "        ).reset_index()\n",
    "\n",
    "        # Convert ARTT to integer\n",
    "        df_grouped['ARTT'] = df_grouped['ARTT'].astype(int)\n",
    "\n",
    "        # Save the combined result to a new CSV file in the same folder with 'Sec' in the file name\n",
    "        output_file_path = os.path.join(folder_path, file_name.replace('.csv', 'Agg.csv'))\n",
    "        df_grouped.to_csv(output_file_path, index=False)\n",
    "\n",
    "        print(f\"Processed {file_name} and saved as {output_file_path}\")\n"
   ]
  }
 ],
 "metadata": {
  "kernelspec": {
   "display_name": "Python 3 (ipykernel)",
   "language": "python",
   "name": "python3"
  },
  "language_info": {
   "codemirror_mode": {
    "name": "ipython",
    "version": 3
   },
   "file_extension": ".py",
   "mimetype": "text/x-python",
   "name": "python",
   "nbconvert_exporter": "python",
   "pygments_lexer": "ipython3",
   "version": "3.9.18"
  }
 },
 "nbformat": 4,
 "nbformat_minor": 5
}
