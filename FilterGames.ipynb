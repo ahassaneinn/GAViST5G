{
 "cells": [
  {
   "cell_type": "code",
   "execution_count": null,
   "id": "4349346c-61f3-4ee9-816a-d3abfeb7b801",
   "metadata": {},
   "outputs": [],
   "source": [
    "import os\n",
    "import pandas as pd\n",
    "\n",
    "# Define directories\n",
    "online_gaming_dir = r'C:\\Users\\Online Gaming'\n",
    "\n",
    "# Function to filter the Online Gaming CSV files\n",
    "def filter_online_gaming(file_path):\n",
    "    df = pd.read_csv(file_path)\n",
    "    \n",
    "    # Filter rows where ISP contains \"Riot Games\" (partial match, ignoring case)\n",
    "    filtered_df = df[df['Org'].str.contains('Riot Games', case=False, na=False)]\n",
    "    \n",
    "    # Also keep rows where Source IP is in the Destination IP (for Riot Games)\n",
    "    riot_ip_rows = df[df['Destination'].isin(filtered_df['Source'])]\n",
    "    \n",
    "    # Combine, drop duplicates, and restore original order\n",
    "    final_df = pd.concat([filtered_df, riot_ip_rows]).drop_duplicates()\n",
    "    \n",
    "    # Ensure sorting by 'No.' column\n",
    "    if 'No.' in final_df.columns:\n",
    "        final_df = final_df.sort_values(by='No.', ascending=True)\n",
    "    \n",
    "    # Save the filtered CSV\n",
    "    save_path = file_path.replace('.csv', '_filtered.csv')\n",
    "    final_df.to_csv(save_path, index=False)\n",
    "    print(f\"Filtered Online Gaming file saved to {save_path}\")\n",
    "\n",
    "# Function to walk through directories and filter files\n",
    "def filter_files():\n",
    "    # Process Online Gaming files\n",
    "    for root, _, files in os.walk(online_gaming_dir):\n",
    "        for file in files:\n",
    "            if file.endswith('.csv'):\n",
    "                file_path = os.path.join(root, file)\n",
    "                filter_online_gaming(file_path)\n",
    "\n",
    "# Run the filtering\n",
    "filter_files()\n"
   ]
  },
  {
   "cell_type": "code",
   "execution_count": null,
   "id": "8b101df3-4587-454e-9e73-fc5323f7ed7b",
   "metadata": {},
   "outputs": [],
   "source": []
  }
 ],
 "metadata": {
  "kernelspec": {
   "display_name": "Python 3 (ipykernel)",
   "language": "python",
   "name": "python3"
  },
  "language_info": {
   "codemirror_mode": {
    "name": "ipython",
    "version": 3
   },
   "file_extension": ".py",
   "mimetype": "text/x-python",
   "name": "python",
   "nbconvert_exporter": "python",
   "pygments_lexer": "ipython3",
   "version": "3.9.18"
  }
 },
 "nbformat": 4,
 "nbformat_minor": 5
}
