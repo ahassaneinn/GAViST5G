{
 "cells": [
  {
   "cell_type": "code",
   "execution_count": null,
   "id": "82dabb58-10aa-4e31-b0c3-fd40aec0ad68",
   "metadata": {},
   "outputs": [],
   "source": [
    "import pandas as pd\n",
    "import numpy as np\n",
    "import os\n",
    "\n",
    "# Specify the file path for a single CSV file\n",
    "file_path = r'C:\\Users\\Video Streaming\\YouTube1.csv'  # Change this to your actual file\n",
    "\n",
    "# Define the range for RTT values\n",
    "#Users run the following command on cmd <ping ?.?.?.? -t> and report values below\n",
    "min_rtt =  252 # minimum RTT value\n",
    "max_rtt =  255 # maximum RTT value\n",
    "avg_rtt =   252 # avg RTT value\n",
    "\n",
    "# Load the CSV file\n",
    "df = pd.read_csv(file_path)\n",
    "num_rows = len(df)\n",
    "\n",
    "# Generate a parabolic distribution\n",
    "x = np.linspace(-1, 1, num_rows)  # generate values between -1 and 1\n",
    "parabolic_values = peak_rtt + (max_rtt - peak_rtt) * x**2 * np.sign(x)\n",
    "\n",
    "# Shuffle the values randomly\n",
    "np.random.shuffle(parabolic_values)\n",
    "\n",
    "# Convert to integers and round\n",
    "parabolic_values = np.round(parabolic_values).astype(int)  # round and convert to integers\n",
    "\n",
    "# Add the shuffled parabolic values to the \"RTT\" column\n",
    "df['RTT'] = parabolic_values\n",
    "\n",
    "# Save the modified CSV file with a new name\n",
    "output_file = file_path.replace('.csv', '_RTT.csv')\n",
    "df.to_csv(output_file, index=False)\n",
    "\n",
    "print(f\"RTT values added and saved to {output_file}\")\n"
   ]
  },
  {
   "cell_type": "code",
   "execution_count": null,
   "id": "b6236193-1c78-4874-9ee4-704d4c2fbf66",
   "metadata": {},
   "outputs": [],
   "source": []
  }
 ],
 "metadata": {
  "kernelspec": {
   "display_name": "Python 3 (ipykernel)",
   "language": "python",
   "name": "python3"
  },
  "language_info": {
   "codemirror_mode": {
    "name": "ipython",
    "version": 3
   },
   "file_extension": ".py",
   "mimetype": "text/x-python",
   "name": "python",
   "nbconvert_exporter": "python",
   "pygments_lexer": "ipython3",
   "version": "3.9.18"
  }
 },
 "nbformat": 4,
 "nbformat_minor": 5
}
